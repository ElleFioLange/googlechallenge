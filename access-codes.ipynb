{
 "metadata": {
  "language_info": {
   "codemirror_mode": {
    "name": "ipython",
    "version": 3
   },
   "file_extension": ".py",
   "mimetype": "text/x-python",
   "name": "python",
   "nbconvert_exporter": "python",
   "pygments_lexer": "ipython3",
   "version": "3.8.2-final"
  },
  "orig_nbformat": 2,
  "kernelspec": {
   "name": "python3",
   "display_name": "Python 3.8.2 64-bit",
   "metadata": {
    "interpreter": {
     "hash": "31f2aee4e71d21fbe5cf8b01ff0e069b9275f58929596ceb00d14d90e3e16cd6"
    }
   }
  }
 },
 "nbformat": 4,
 "nbformat_minor": 2,
 "cells": [
  {
   "cell_type": "code",
   "execution_count": 205,
   "metadata": {},
   "outputs": [],
   "source": [
    "def solution(l):\n",
    "    trips = 0\n",
    "    div_table = []\n",
    "    for idx, i in enumerate(l):\n",
    "        div_by_i = [(item_idx + idx + 1, item) for item_idx, item in enumerate(l[idx+1:]) if item % i == 0]\n",
    "        div_table.append(div_by_i)\n",
    "    for row in div_table:\n",
    "        for item in row:\n",
    "            idx, i = item\n",
    "            trips += len(div_table[idx])\n",
    "    return trips"
   ]
  },
  {
   "cell_type": "code",
   "execution_count": 208,
   "metadata": {},
   "outputs": [
    {
     "output_type": "execute_result",
     "data": {
      "text/plain": [
       "10"
      ]
     },
     "metadata": {},
     "execution_count": 208
    }
   ],
   "source": [
    "solution([1, 1, 1, 1, 2])"
   ]
  },
  {
   "cell_type": "code",
   "execution_count": 209,
   "metadata": {},
   "outputs": [
    {
     "output_type": "execute_result",
     "data": {
      "text/plain": [
       "1329336999"
      ]
     },
     "metadata": {},
     "execution_count": 209
    }
   ],
   "source": [
    "a = []\n",
    "for i in range(1, 2000):\n",
    "    a += [1]\n",
    "solution(a)"
   ]
  },
  {
   "cell_type": "code",
   "execution_count": null,
   "metadata": {},
   "outputs": [],
   "source": []
  }
 ]
}