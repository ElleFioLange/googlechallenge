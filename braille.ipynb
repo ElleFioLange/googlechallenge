{
 "cells": [
  {
   "cell_type": "code",
   "execution_count": 26,
   "metadata": {},
   "outputs": [],
   "source": [
    "test_strings = [\n",
    "    'Hello world',\n",
    "    'why am i doing this',\n",
    "    'CapItaLizAtioN',\n",
    "]\n",
    "\n",
    "cap = '000001'\n",
    "\n",
    "char_to_braille = {\n",
    "    'a': '100000',\n",
    "    'b': '110000',\n",
    "    'c': '100100',\n",
    "    'd': '100110',\n",
    "    'e': '100010',\n",
    "    'f': '110100',\n",
    "    'g': '110110',\n",
    "    'h': '110010',\n",
    "    'i': '010100',\n",
    "    'j': '010110',\n",
    "    'k': '101000',\n",
    "    'l': '111000',\n",
    "    'm': '101100',\n",
    "    'n': '101110',\n",
    "    'o': '101010',\n",
    "    'p': '111100',\n",
    "    'q': '111110',\n",
    "    'r': '111010',\n",
    "    's': '011100',\n",
    "    't': '011110',\n",
    "    'u': '101001',\n",
    "    'v': '111001',\n",
    "    'w': '010111',\n",
    "    'x': '101101',\n",
    "    'y': '101111',\n",
    "    'z': '101011',\n",
    "    ' ': '000000'\n",
    "}"
   ]
  },
  {
   "cell_type": "code",
   "execution_count": 25,
   "metadata": {},
   "outputs": [],
   "source": [
    "def strToBraille(string):\n",
    "    result = ''\n",
    "    for char in string:\n",
    "        if char.isupper():\n",
    "            result += cap\n",
    "        result += char_to_braille[char.lower()]\n",
    "    return result\n",
    "        "
   ]
  },
  {
   "cell_type": "code",
   "execution_count": 13,
   "metadata": {},
   "outputs": [
    {
     "output_type": "stream",
     "name": "stdout",
     "text": [
      "['000001110010100010111000111000101010000000010111101010111010111000100110', '010111110010101011000000100000101100000000010100000000100110101010010100101110110110000000011110110010010100011100', '000001100100100000111100000001010100011110100000000001111000010100111101000001100000011110010100101010000001101110']\n"
     ]
    }
   ],
   "source": [
    "print([strToBraille(string) for string in test_strings])"
   ]
  },
  {
   "cell_type": "code",
   "execution_count": 23,
   "metadata": {},
   "outputs": [
    {
     "output_type": "stream",
     "name": "stdout",
     "text": [
      "000001011110110010100010000000111110101001010100100100101000000000110000111010101010010111101110000000110100101010101101000000010110101001101100111100011100000000101010111001100010111010000000011110110010100010000000111000100000111101101011000000100110101010110110\n"
     ]
    }
   ],
   "source": [
    "print(strToBraille('The quick brown fox jumps over the lazy dog'))"
   ]
  },
  {
   "cell_type": "code",
   "execution_count": 20,
   "metadata": {},
   "outputs": [
    {
     "output_type": "execute_result",
     "data": {
      "text/plain": [
       "'000000'"
      ]
     },
     "metadata": {},
     "execution_count": 20
    }
   ],
   "source": []
  },
  {
   "cell_type": "code",
   "execution_count": null,
   "metadata": {},
   "outputs": [],
   "source": []
  }
 ],
 "metadata": {
  "kernelspec": {
   "name": "python3",
   "display_name": "Python 2.7.16 64-bit",
   "metadata": {
    "interpreter": {
     "hash": "767d51c1340bd893661ea55ea3124f6de3c7a262a8b4abca0554b478b1e2ff90"
    }
   }
  },
  "language_info": {
   "codemirror_mode": {
    "name": "ipython",
    "version": 3
   },
   "file_extension": ".py",
   "mimetype": "text/x-python",
   "name": "python",
   "nbconvert_exporter": "python",
   "pygments_lexer": "ipython3",
   "version": "2.7.16-final"
  }
 },
 "nbformat": 4,
 "nbformat_minor": 2
}