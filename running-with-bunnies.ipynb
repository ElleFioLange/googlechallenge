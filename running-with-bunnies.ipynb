{
 "cells": [
  {
   "cell_type": "code",
   "execution_count": 494,
   "metadata": {},
   "outputs": [],
   "source": [
    "#Figured I should start commenting these things. Forgive me for the earlier ones. I picked up programming\n",
    "#last year after not having done anything with it since 6th grade.\n",
    "from itertools import permutations, combinations\n",
    "def solution(times, time_limit):\n",
    "    n = len(times)\n",
    "    if n == 1:\n",
    "        return []\n",
    "    #Get the shortest times between any 2 points using Bellman-Ford\n",
    "    for node in range(n):\n",
    "        dist = times[node]\n",
    "        dist[node] = times[node][node]\n",
    "        for repeat in range(n - 1): \n",
    "            for i in range(n):\n",
    "                for j in range(n):\n",
    "                    dist[j] = min(dist[i] + times[i][j], dist[j])\n",
    "        for i in range(n):\n",
    "            for j in range(n):\n",
    "                if dist[i] + times[i][j] < dist[j]:\n",
    "                    return list(range(0, n - 2))\n",
    "    times[node] = dist\n",
    "    #Iterate from max num possible to save to 1\n",
    "    for i in reversed(range(1, n - 1)):\n",
    "        #Get all the permutations of i bunnies (if i is 2 and n is 5 then (1, 2), (2, 1), (1, 3), (3, 1)... etc.)\n",
    "        combs = list(combinations(range(1, n - 1), i))\n",
    "        perms = [list(permutations(comb)) for comb in combs]\n",
    "        perms = reduce(lambda x, y: x + y, perms)\n",
    "        #Run through perms and see if the path is under time limit\n",
    "        poss_paths = []\n",
    "        for perm in perms:\n",
    "            time = 0\n",
    "            cur_node = 0\n",
    "            for node in perm:\n",
    "                time += times[cur_node][node]\n",
    "                cur_node = node\n",
    "            time += times[node][n - 1]\n",
    "            if time <= time_limit:\n",
    "                poss_paths += [perm]\n",
    "                print(poss_paths)\n",
    "        #If any of the permutations work find the one with the lowest worker IDs\n",
    "        if poss_paths:\n",
    "            poss_paths = [list(path) for path in poss_paths]\n",
    "            for path in poss_paths:\n",
    "                path.sort()\n",
    "            poss_paths.sort()\n",
    "            path = poss_paths[0]\n",
    "            return [i - 1 for i in path]\n",
    "    return []"
   ]
  },
  {
   "cell_type": "code",
   "execution_count": 495,
   "metadata": {},
   "outputs": [
    {
     "data": {
      "text/plain": [
       "[0, 1, 2]"
      ]
     },
     "execution_count": 495,
     "metadata": {},
     "output_type": "execute_result"
    }
   ],
   "source": [
    "a = [\n",
    "    [-1, -1, -1, -1, -1],\n",
    "    [-1, -1, -1, -1, -1],\n",
    "    [-1, -1, -1, -1, -1],\n",
    "    [-1, -1, -1, -1, -1],\n",
    "    [-1, -1, -1, -1, -1],\n",
    "]\n",
    "solution(a, 1)"
   ]
  },
  {
   "cell_type": "code",
   "execution_count": 489,
   "metadata": {},
   "outputs": [
    {
     "data": {
      "text/plain": [
       "[0, 1]"
      ]
     },
     "execution_count": 489,
     "metadata": {},
     "output_type": "execute_result"
    }
   ],
   "source": [
    "a = [[0, 20340293, -23452, 54283245, 51902939],\n",
    "     [45245, 0, 123, 516918892, 523],\n",
    "     [402020, -23, 0, 13499, 51342],\n",
    "     [2939422, 23414395, 20094, 0, 283948],\n",
    "     [23945, 20502939, 32013, 94205, 0]]\n",
    "solution(a, 1)"
   ]
  },
  {
   "cell_type": "code",
   "execution_count": 482,
   "metadata": {},
   "outputs": [
    {
     "data": {
      "text/plain": [
       "[]"
      ]
     },
     "execution_count": 482,
     "metadata": {},
     "output_type": "execute_result"
    }
   ],
   "source": [
    "a = [\n",
    "    [0]\n",
    "]\n",
    "solution(a, 1)"
   ]
  },
  {
   "cell_type": "code",
   "execution_count": 483,
   "metadata": {},
   "outputs": [
    {
     "data": {
      "text/plain": [
       "[]"
      ]
     },
     "execution_count": 483,
     "metadata": {},
     "output_type": "execute_result"
    }
   ],
   "source": [
    "a = [\n",
    "    [0, 32],\n",
    "    [123, 0]\n",
    "]\n",
    "solution(a, 312)"
   ]
  },
  {
   "cell_type": "code",
   "execution_count": 478,
   "metadata": {
    "tags": []
   },
   "outputs": [
    {
     "name": "stdout",
     "output_type": "stream",
     "text": [
      "[(4,)]\n"
     ]
    },
    {
     "data": {
      "text/plain": [
       "[3]"
      ]
     },
     "execution_count": 478,
     "metadata": {},
     "output_type": "execute_result"
    }
   ],
   "source": [
    "a = [\n",
    "    [0, 2, 2, 2, -1, 4, 2],\n",
    "    [9, 0, 2, 2, -1, 4, 2],\n",
    "    [9, 3, 0, 2, -1, 4, 2],\n",
    "    [9, 3, 2, 0, -1, 4, 2],\n",
    "    [9, 3, 2, 2,  0, 4, 2],\n",
    "    [9, 1, 2, 2, -1, 0, 2],\n",
    "    [9, 3, 1, 2, -1, 4, 0],\n",
    "]\n",
    "solution(a, 1)"
   ]
  },
  {
   "cell_type": "code",
   "execution_count": 496,
   "metadata": {},
   "outputs": [
    {
     "name": "stdout",
     "output_type": "stream",
     "text": [
      "[(2, 3)]\n",
      "[(2, 3), (3, 2)]\n"
     ]
    },
    {
     "data": {
      "text/plain": [
       "[1, 2]"
      ]
     },
     "execution_count": 496,
     "metadata": {},
     "output_type": "execute_result"
    }
   ],
   "source": [
    "a = [\n",
    "    [0, 2, 2, 2, -1],\n",
    "    [9, 0, 2, 2, -1],\n",
    "    [9, 3, 0, 2, -1],\n",
    "    [9, 3, 2, 0, -1],\n",
    "    [9, 3, 2, 2,  0]\n",
    "]\n",
    "solution(a, 1)"
   ]
  },
  {
   "cell_type": "code",
   "execution_count": 480,
   "metadata": {},
   "outputs": [
    {
     "name": "stdout",
     "output_type": "stream",
     "text": [
      "[(1,)]\n"
     ]
    },
    {
     "data": {
      "text/plain": [
       "[0]"
      ]
     },
     "execution_count": 480,
     "metadata": {},
     "output_type": "execute_result"
    }
   ],
   "source": [
    "a = [\n",
    "        [1, 2, 3],\n",
    "        [1, 2, 3],\n",
    "        [1, 2, 3]\n",
    "]\n",
    "solution(a, 20)"
   ]
  },
  {
   "cell_type": "code",
   "execution_count": 473,
   "metadata": {},
   "outputs": [
    {
     "name": "stdout",
     "output_type": "stream",
     "text": [
      "[(1, 2)]\n",
      "[(1, 2), (2, 1)]\n",
      "[(1, 2), (2, 1), (1, 3)]\n",
      "[(1, 2), (2, 1), (1, 3), (3, 1)]\n",
      "[(1, 2), (2, 1), (1, 3), (3, 1), (2, 3)]\n",
      "[(1, 2), (2, 1), (1, 3), (3, 1), (2, 3), (3, 2)]\n"
     ]
    },
    {
     "data": {
      "text/plain": [
       "[0, 1]"
      ]
     },
     "execution_count": 473,
     "metadata": {},
     "output_type": "execute_result"
    }
   ],
   "source": [
    "a = [\n",
    "        [0, 1, 1, 1, 1],\n",
    "        [1, 0, 1, 1, 1],\n",
    "        [1, 1, 0, 1, 1],\n",
    "        [1, 1, 1, 0, 1],\n",
    "        [1, 1, 1, 1, 0]\n",
    "    ]\n",
    "solution(a, 3)"
   ]
  }
 ],
 "metadata": {
  "kernelspec": {
   "display_name": "Python 2",
   "language": "python",
   "name": "python2"
  },
  "language_info": {
   "codemirror_mode": {
    "name": "ipython",
    "version": 2
   },
   "file_extension": ".py",
   "mimetype": "text/x-python",
   "name": "python",
   "nbconvert_exporter": "python",
   "pygments_lexer": "ipython2",
   "version": "2.7.18"
  }
 },
 "nbformat": 4,
 "nbformat_minor": 2
}
