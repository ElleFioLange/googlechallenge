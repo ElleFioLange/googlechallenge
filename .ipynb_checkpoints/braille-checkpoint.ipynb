{
 "cells": [
  {
   "cell_type": "code",
   "execution_count": 1,
   "metadata": {},
   "outputs": [],
   "source": [
    "test_strings = [\n",
    "    'Hello world',\n",
    "    'why am i doing this',\n",
    "    'CapItaLizAtioN',\n",
    "]\n",
    "\n",
    "cap = '000001'\n",
    "space = '000000'\n",
    "\n",
    "char_to_braille = {\n",
    "    'a': '100000',\n",
    "    'b': '110000',\n",
    "    'c': '101000',\n",
    "    'd': '101100',\n",
    "    'e': '100100',\n",
    "    'f': '111000',\n",
    "    'g': '111100',\n",
    "    'h': '110100',\n",
    "    'i': '011000',\n",
    "    'j': '011100',\n",
    "    'a': '100000',\n",
    "    'b': '110000',\n",
    "    'c': '101000',\n",
    "    'd': '101100',\n",
    "    'e': '100100',\n",
    "    'f': '111000',\n",
    "    'g': '111100',\n",
    "    'h': '110100',\n",
    "    'i': '011000',\n",
    "    'j': '011100',\n",
    "    'a': '100000',\n",
    "    'b': '110000',\n",
    "    'c': '101000',\n",
    "    'd': '101100',\n",
    "    'e': '100100',\n",
    "    'f': '111000',\n",
    "}"
   ]
  },
  {
   "cell_type": "code",
   "execution_count": null,
   "metadata": {},
   "outputs": [],
   "source": [
    "def strToBraille(string, cap, space):\n",
    "    for char in string:\n",
    "        num = ord(char) - 96\n",
    "        "
   ]
  },
  {
   "cell_type": "code",
   "execution_count": null,
   "metadata": {},
   "outputs": [],
   "source": [
    "1, 12, 13, 134, 14, 123, 1234, 124, 23, 234"
   ]
  }
 ],
 "metadata": {
  "kernelspec": {
   "display_name": "Python 3",
   "language": "python",
   "name": "python3"
  },
  "language_info": {
   "codemirror_mode": {
    "name": "ipython",
    "version": 3
   },
   "file_extension": ".py",
   "mimetype": "text/x-python",
   "name": "python",
   "nbconvert_exporter": "python",
   "pygments_lexer": "ipython3",
   "version": "3.7.9"
  }
 },
 "nbformat": 4,
 "nbformat_minor": 2
}
