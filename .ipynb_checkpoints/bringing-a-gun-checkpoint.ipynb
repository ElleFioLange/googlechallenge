{
 "cells": [
  {
   "cell_type": "code",
   "execution_count": 54,
   "metadata": {},
   "outputs": [],
   "source": [
    "def gcd(a, b):\n",
    "    while(b):\n",
    "        a, b = b, a % b\n",
    "    return a\n",
    "\n",
    "def mapRicochet(coord, dims, my_pos):\n",
    "    new_x = (coord[0] + my_pos[0]) % dims[0] \n",
    "    new_y = (coord[1] + my_pos[1]) % dims[1]\n",
    "    if (coord[0] + my_pos[0]) // dims[0] % 2 == 1:\n",
    "        new_x = dims[0] - new_x\n",
    "    if (coord[1] + my_pos[1]) // dims[1] % 2 == 1:\n",
    "        new_y = dims[1] - new_y\n",
    "    return (new_x, new_y)\n",
    "\n",
    "def solution(dims, my_pos, t_pos, dist):\n",
    "    slope_tracker = []\n",
    "    potential_points = set()\n",
    "    for k in [(1, 1), (1, -1), (-1, 1), (-1, -1)]:\n",
    "        for i in range((my_pos[0] + dist) // dims[0] + 1):\n",
    "            for j in range((my_pos[1] + dist) // dims[1] + 1):\n",
    "                x_displace = dims[0] - t_pos[0] if (i * k[0]) % 2 else t_pos[0]\n",
    "                x = k[0] * i * dims[0] + x_displace - my_pos[0]\n",
    "                y_displace = dims[1] - t_pos[1] if (j * k[1]) % 2 else t_pos[1]\n",
    "                y = k[1] * j * dims[1] + y_displace - my_pos[1]\n",
    "                \n",
    "                slope = float(y) / float(x)\n",
    "                if (slope, k) not in slope_tracker:\n",
    "                    if (x ** 2 + y ** 2) ** 0.5 <= dist:\n",
    "                        slope_tracker += [(slope, k)]\n",
    "                        potential_points.add((x, y))\n",
    "    return len(potential_points)\n",
    "                \n",
    "                    \n",
    "                    \n",
    "    coords = {\n",
    "        (0, 0): set(),\n",
    "        (0, 1): set(),\n",
    "        (1, 0): set(),\n",
    "        (1, 1): set(),\n",
    "    }\n",
    "                \n",
    "    for i in range(2):\n",
    "        for j in range(2):\n",
    "            for k in range((my_pos[i] + dist) // dims[i] + 1):\n",
    "                for l in [-1, 1]:\n",
    "                    if j:\n",
    "                        displace = dims[i] - t_pos[i] if (l * k) % 2 else t_pos[i]\n",
    "                        coords[(i, j)].add(l * k * dims[i] + displace)\n",
    "                    else:\n",
    "                        displace = dims[i] - my_pos[i] if (l * k) % 2 else my_pos[i]\n",
    "                        coords[(i, j)].add(l * k * dims[i] + displace)\n",
    "    return potential_points, coords\n",
    "    m_hits = set()\n",
    "    t_hits = set()\n",
    "    for i in range(2):\n",
    "        for x in coords[(0, i)]:\n",
    "            for y in coords[(1, i)]:\n",
    "                if ((x - my_pos[0]) ** 2 + (y - my_pos[1]) ** 2) ** 0.5 <= dist:\n",
    "                    if i:\n",
    "                        t_hits.add((x, y))\n",
    "                    else:\n",
    "                        m_hits.add((x, y))\n",
    "    m_hits = [(hit[0] - my_pos[0], hit[1] - my_pos[1]) for hit in m_hits]\n",
    "    t_hits = [(hit[0] - my_pos[0], hit[1] - my_pos[1]) for hit in t_hits]\n",
    "    unoccluded_hits = []\n",
    "    for hit in t_hits:\n",
    "        coord_gcd = gcd(hit[0], hit[1])\n",
    "        if abs(coord_gcd) > 1:\n",
    "            occluded = False\n",
    "            for i in range(1, abs(coord_gcd)):\n",
    "                portion = (hit[0] * i / abs(coord_gcd), hit[1] * i / abs(coord_gcd))\n",
    "                check = mapRicochet(portion, dims, my_pos)\n",
    "                if check == my_pos or check == t_pos:\n",
    "                    occluded = True\n",
    "            if not occluded:\n",
    "                unoccluded_hits += [hit]\n",
    "        else:\n",
    "            unoccluded_hits += [hit]\n",
    "    return len(unoccluded_hits)"
   ]
  },
  {
   "cell_type": "code",
   "execution_count": 68,
   "metadata": {},
   "outputs": [
    {
     "data": {
      "text/plain": [
       "1"
      ]
     },
     "execution_count": 68,
     "metadata": {},
     "output_type": "execute_result"
    }
   ],
   "source": [
    "mapRicochet((-5, 0), (10, 10), (3, 7))\n",
    "11 // 10"
   ]
  },
  {
   "cell_type": "code",
   "execution_count": 73,
   "metadata": {},
   "outputs": [],
   "source": [
    "def gcd(a, b):\n",
    "    while(b):\n",
    "        a, b = b, a % b\n",
    "    return a\n",
    "\n",
    "#Function to map space outside of room coordinates to endpoint after all ricochets\n",
    "def mapRicochet(coord, dims, my_pos):\n",
    "    new_x = (coord[0] + my_pos[0]) % dims[0] \n",
    "    new_y = (coord[1] + my_pos[1]) % dims[1]\n",
    "    if (coord[0] + my_pos[0]) // dims[0] % 2 == 1:\n",
    "        new_x = dims[0] - new_x\n",
    "    if (coord[1] + my_pos[1]) // dims[1] % 2 == 1:\n",
    "        new_y = dims[1] - new_y\n",
    "    return (new_x, new_y)\n",
    "\n",
    "def solution(dims, my_pos, t_pos, dist):\n",
    "    #Get a list of all bearing vectors that hit the target point\n",
    "    potential_points = []\n",
    "    for k in [(1, 1), (1, -1), (-1, 1), (-1, -1)]:\n",
    "        for i in range((my_pos[0] + dist) // dims[0] + 2):\n",
    "            for j in range((my_pos[1] + dist) // dims[1] + 2):\n",
    "                x_displace = dims[0] - t_pos[0] if (i * k[0]) % 2 else t_pos[0]\n",
    "                x = k[0] * i * dims[0] + x_displace - my_pos[0]\n",
    "                y_displace = dims[1] - t_pos[1] if (j * k[1]) % 2 else t_pos[1]\n",
    "                y = k[1] * j * dims[1] + y_displace - my_pos[1]\n",
    "                if (x ** 2 + y ** 2) ** 0.5 <= dist:\n",
    "                    potential_points += [(x, y)]\n",
    "    potential_points = set(potential_points)\n",
    "    #Check for occlusion from my_pos or a closer target point\n",
    "    unoccluded_hits = []\n",
    "    for point in potential_points:\n",
    "        coord_gcd = gcd(point[0], point[1])\n",
    "        if abs(coord_gcd) > 1:\n",
    "            occluded = False\n",
    "            for i in range(1, abs(coord_gcd)):\n",
    "                portion = (point[0] * i / abs(coord_gcd), point[1] * i / abs(coord_gcd))\n",
    "                check = mapRicochet(portion, dims, my_pos)\n",
    "                if check == tuple(my_pos) or check == tuple(t_pos):\n",
    "                    occluded = True\n",
    "            if not occluded:\n",
    "                unoccluded_hits += [point]\n",
    "        else:\n",
    "            unoccluded_hits += [point]\n",
    "    return len(unoccluded_hits)"
   ]
  },
  {
   "cell_type": "code",
   "execution_count": 74,
   "metadata": {},
   "outputs": [
    {
     "data": {
      "text/plain": [
       "0"
      ]
     },
     "execution_count": 74,
     "metadata": {},
     "output_type": "execute_result"
    }
   ],
   "source": [
    "solution([10, 10], [1, 1], [1, 9], 4)"
   ]
  },
  {
   "cell_type": "code",
   "execution_count": 75,
   "metadata": {},
   "outputs": [
    {
     "data": {
      "text/plain": [
       "9"
      ]
     },
     "execution_count": 75,
     "metadata": {},
     "output_type": "execute_result"
    }
   ],
   "source": [
    "solution([300,275], [150,150], [185,100], 500)"
   ]
  },
  {
   "cell_type": "code",
   "execution_count": 76,
   "metadata": {
    "scrolled": true
   },
   "outputs": [
    {
     "data": {
      "text/plain": [
       "2983"
      ]
     },
     "execution_count": 76,
     "metadata": {},
     "output_type": "execute_result"
    }
   ],
   "source": [
    "solution([1000, 2], [249, 1], [934, 1], 1329)"
   ]
  },
  {
   "cell_type": "code",
   "execution_count": 67,
   "metadata": {},
   "outputs": [
    {
     "ename": "KeyboardInterrupt",
     "evalue": "",
     "output_type": "error",
     "traceback": [
      "\u001b[0;31m---------------------------------------------------------------------------\u001b[0m",
      "\u001b[0;31mKeyboardInterrupt\u001b[0m                         Traceback (most recent call last)",
      "\u001b[0;32m<ipython-input-67-dc8e826d1143>\u001b[0m in \u001b[0;36m<module>\u001b[0;34m()\u001b[0m\n\u001b[0;32m----> 1\u001b[0;31m \u001b[0msolution\u001b[0m\u001b[0;34m(\u001b[0m\u001b[0;34m[\u001b[0m\u001b[0;36m3\u001b[0m\u001b[0;34m,\u001b[0m \u001b[0;36m3\u001b[0m\u001b[0;34m]\u001b[0m\u001b[0;34m,\u001b[0m \u001b[0;34m[\u001b[0m\u001b[0;36m2\u001b[0m\u001b[0;34m,\u001b[0m \u001b[0;36m2\u001b[0m\u001b[0;34m]\u001b[0m\u001b[0;34m,\u001b[0m \u001b[0;34m[\u001b[0m\u001b[0;36m1\u001b[0m\u001b[0;34m,\u001b[0m \u001b[0;36m1\u001b[0m\u001b[0;34m]\u001b[0m\u001b[0;34m,\u001b[0m \u001b[0;36m10000\u001b[0m\u001b[0;34m)\u001b[0m\u001b[0;34m\u001b[0m\u001b[0m\n\u001b[0m",
      "\u001b[0;32m<ipython-input-57-4565bc6fc7af>\u001b[0m in \u001b[0;36msolution\u001b[0;34m(dims, my_pos, t_pos, dist)\u001b[0m\n\u001b[1;32m     20\u001b[0m             \u001b[0;32mfor\u001b[0m \u001b[0mj\u001b[0m \u001b[0;32min\u001b[0m \u001b[0mrange\u001b[0m\u001b[0;34m(\u001b[0m\u001b[0;34m(\u001b[0m\u001b[0mmy_pos\u001b[0m\u001b[0;34m[\u001b[0m\u001b[0;36m1\u001b[0m\u001b[0;34m]\u001b[0m \u001b[0;34m+\u001b[0m \u001b[0mdist\u001b[0m\u001b[0;34m)\u001b[0m \u001b[0;34m//\u001b[0m \u001b[0mdims\u001b[0m\u001b[0;34m[\u001b[0m\u001b[0;36m1\u001b[0m\u001b[0;34m]\u001b[0m \u001b[0;34m+\u001b[0m \u001b[0;36m1\u001b[0m\u001b[0;34m)\u001b[0m\u001b[0;34m:\u001b[0m\u001b[0;34m\u001b[0m\u001b[0m\n\u001b[1;32m     21\u001b[0m                 \u001b[0mx_displace\u001b[0m \u001b[0;34m=\u001b[0m \u001b[0mdims\u001b[0m\u001b[0;34m[\u001b[0m\u001b[0;36m0\u001b[0m\u001b[0;34m]\u001b[0m \u001b[0;34m-\u001b[0m \u001b[0mt_pos\u001b[0m\u001b[0;34m[\u001b[0m\u001b[0;36m0\u001b[0m\u001b[0;34m]\u001b[0m \u001b[0;32mif\u001b[0m \u001b[0;34m(\u001b[0m\u001b[0mi\u001b[0m \u001b[0;34m*\u001b[0m \u001b[0mk\u001b[0m\u001b[0;34m[\u001b[0m\u001b[0;36m0\u001b[0m\u001b[0;34m]\u001b[0m\u001b[0;34m)\u001b[0m \u001b[0;34m%\u001b[0m \u001b[0;36m2\u001b[0m \u001b[0;32melse\u001b[0m \u001b[0mt_pos\u001b[0m\u001b[0;34m[\u001b[0m\u001b[0;36m0\u001b[0m\u001b[0;34m]\u001b[0m\u001b[0;34m\u001b[0m\u001b[0m\n\u001b[0;32m---> 22\u001b[0;31m                 \u001b[0mx\u001b[0m \u001b[0;34m=\u001b[0m \u001b[0mk\u001b[0m\u001b[0;34m[\u001b[0m\u001b[0;36m0\u001b[0m\u001b[0;34m]\u001b[0m \u001b[0;34m*\u001b[0m \u001b[0mi\u001b[0m \u001b[0;34m*\u001b[0m \u001b[0mdims\u001b[0m\u001b[0;34m[\u001b[0m\u001b[0;36m0\u001b[0m\u001b[0;34m]\u001b[0m \u001b[0;34m+\u001b[0m \u001b[0mx_displace\u001b[0m \u001b[0;34m-\u001b[0m \u001b[0mmy_pos\u001b[0m\u001b[0;34m[\u001b[0m\u001b[0;36m0\u001b[0m\u001b[0;34m]\u001b[0m\u001b[0;34m\u001b[0m\u001b[0m\n\u001b[0m\u001b[1;32m     23\u001b[0m                 \u001b[0my_displace\u001b[0m \u001b[0;34m=\u001b[0m \u001b[0mdims\u001b[0m\u001b[0;34m[\u001b[0m\u001b[0;36m1\u001b[0m\u001b[0;34m]\u001b[0m \u001b[0;34m-\u001b[0m \u001b[0mt_pos\u001b[0m\u001b[0;34m[\u001b[0m\u001b[0;36m1\u001b[0m\u001b[0;34m]\u001b[0m \u001b[0;32mif\u001b[0m \u001b[0;34m(\u001b[0m\u001b[0mj\u001b[0m \u001b[0;34m*\u001b[0m \u001b[0mk\u001b[0m\u001b[0;34m[\u001b[0m\u001b[0;36m1\u001b[0m\u001b[0;34m]\u001b[0m\u001b[0;34m)\u001b[0m \u001b[0;34m%\u001b[0m \u001b[0;36m2\u001b[0m \u001b[0;32melse\u001b[0m \u001b[0mt_pos\u001b[0m\u001b[0;34m[\u001b[0m\u001b[0;36m1\u001b[0m\u001b[0;34m]\u001b[0m\u001b[0;34m\u001b[0m\u001b[0m\n\u001b[1;32m     24\u001b[0m                 \u001b[0my\u001b[0m \u001b[0;34m=\u001b[0m \u001b[0mk\u001b[0m\u001b[0;34m[\u001b[0m\u001b[0;36m1\u001b[0m\u001b[0;34m]\u001b[0m \u001b[0;34m*\u001b[0m \u001b[0mj\u001b[0m \u001b[0;34m*\u001b[0m \u001b[0mdims\u001b[0m\u001b[0;34m[\u001b[0m\u001b[0;36m1\u001b[0m\u001b[0;34m]\u001b[0m \u001b[0;34m+\u001b[0m \u001b[0my_displace\u001b[0m \u001b[0;34m-\u001b[0m \u001b[0mmy_pos\u001b[0m\u001b[0;34m[\u001b[0m\u001b[0;36m1\u001b[0m\u001b[0;34m]\u001b[0m\u001b[0;34m\u001b[0m\u001b[0m\n",
      "\u001b[0;31mKeyboardInterrupt\u001b[0m: "
     ]
    }
   ],
   "source": [
    "solution([3, 3], [2, 2], [1, 1], 10000)"
   ]
  },
  {
   "cell_type": "code",
   "execution_count": null,
   "metadata": {},
   "outputs": [],
   "source": []
  }
 ],
 "metadata": {
  "kernelspec": {
   "display_name": "Python 2",
   "language": "python",
   "name": "python2"
  },
  "language_info": {
   "codemirror_mode": {
    "name": "ipython",
    "version": 2
   },
   "file_extension": ".py",
   "mimetype": "text/x-python",
   "name": "python",
   "nbconvert_exporter": "python",
   "pygments_lexer": "ipython2",
   "version": "2.7.18"
  }
 },
 "nbformat": 4,
 "nbformat_minor": 4
}
