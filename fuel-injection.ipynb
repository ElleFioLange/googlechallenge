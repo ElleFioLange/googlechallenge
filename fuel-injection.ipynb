{
 "metadata": {
  "language_info": {
   "codemirror_mode": {
    "name": "ipython",
    "version": 3
   },
   "file_extension": ".py",
   "mimetype": "text/x-python",
   "name": "python",
   "nbconvert_exporter": "python",
   "pygments_lexer": "ipython3",
   "version": "3.8.2-final"
  },
  "orig_nbformat": 2,
  "kernelspec": {
   "name": "python3",
   "display_name": "Python 3.8.2 64-bit",
   "metadata": {
    "interpreter": {
     "hash": "31f2aee4e71d21fbe5cf8b01ff0e069b9275f58929596ceb00d14d90e3e16cd6"
    }
   }
  }
 },
 "nbformat": 4,
 "nbformat_minor": 2,
 "cells": [
  {
   "cell_type": "code",
   "execution_count": 106,
   "metadata": {},
   "outputs": [],
   "source": [
    "def solution(n):\n",
    "    n = int(n)\n",
    "    steps = 0\n",
    "    while n != 1:\n",
    "        if n % 2 == 1:\n",
    "            test_up = 2\n",
    "            while (n + 1) % test_up == 0:\n",
    "                test_up = test_up * 2\n",
    "            test_up = test_up / 2\n",
    "            test_down = 2\n",
    "            while (n - 1) % test_down == 0:\n",
    "                test_down = test_down * 2\n",
    "            test_down = test_down / 2\n",
    "            if n == 3:\n",
    "                n = 2\n",
    "            elif test_up > test_down:\n",
    "                n += 1\n",
    "            else:\n",
    "                n -= 1\n",
    "            steps += 1\n",
    "        else:\n",
    "            n = n // 2\n",
    "            steps += 1\n",
    "    return steps"
   ]
  },
  {
   "cell_type": "code",
   "execution_count": 110,
   "metadata": {},
   "outputs": [
    {
     "output_type": "stream",
     "name": "stdout",
     "text": [
      "1\n1\n"
     ]
    },
    {
     "output_type": "execute_result",
     "data": {
      "text/plain": [
       "1"
      ]
     },
     "metadata": {},
     "execution_count": 110
    }
   ],
   "source": [
    "solution(2)"
   ]
  },
  {
   "cell_type": "code",
   "execution_count": null,
   "metadata": {},
   "outputs": [],
   "source": []
  }
 ]
}